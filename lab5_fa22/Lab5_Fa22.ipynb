{
 "cells": [
  {
   "cell_type": "markdown",
   "metadata": {},
   "source": [
    "# Hands-on Lab 5: Sensing Part 2\n",
    "### EECS 16B: Designing Information Devices and Systems II, Fall 2022\n",
    "\n",
    "Updated by Mia Mirkovic (2020)\n",
    "\n",
    "Updated by Rafael Calleja (2021)\n",
    "\n",
    "Updated by Steven Lu, Kaitlyn Chan (2021)\n",
    "\n",
    "Updated by Steven Lu (2022)\n",
    "\n",
    "Updated by Megan Zeng, Mingyang Wang, and Shrey Aeron (2022)\n"
   ]
  },
  {
   "cell_type": "markdown",
   "metadata": {},
   "source": [
    "## Table of Contents\n",
    "\n",
    "* [Part 0: Before you Begin](#part0)\n",
    "* [Part 1: Bass-ic Filter](#part1)\n",
    "* [Part 2: Caught in the Midrange](#part2)\n"
   ]
  },
  {
   "cell_type": "markdown",
   "metadata": {},
   "source": [
    "# <span style=\"color:navy\">Introduction</span>\n",
    "-----\n",
    "Now that we've built the micboard circuitry, we can convert your voice into an electrical signal for the Arduino to read and work with. However, there is also a lot of background noise picked up by the microphone that we don't want to pass to the Arduino. To remove this, we will be building filters to \"filter\" out frequencies outside of their designated ranges, attenuating them and preventing them from being passed to the Arduino."
   ]
  },
  {
   "cell_type": "markdown",
   "metadata": {},
   "source": [
    "## Lab Note\n",
    "* [Lab Note](https://eecs16b.org/lab/notes/lab_note5.pdf)\n",
    "\n",
    "Review the lab note. The lab note provides a technical review of the concepts covered in lab as well as theoretical connections. **You should read the lab notes before your lab section.** They serve as a review and will be helpful as a reference during section.\n"
   ]
  },
  {
   "cell_type": "markdown",
   "metadata": {},
   "source": [
    "## Pre-Lab\n",
    "\n",
    "Complete the pre-lab assignment before doing the lab. Submit your answers to the Gradescope assignment \"[\\[Lab\\] Pre-Lab 5: Sensing Part 2](https://www.gradescope.com/courses/414337/assignments/2290857).\" Please make sure that you submit to the correct assignment. Pre-Lab 5 is due on **Monday, October 3 at 11:59pm**. No late submissions will be accepted."
   ]
  },
  {
   "cell_type": "markdown",
   "metadata": {},
   "source": [
    "<a id='part0'></a>\n",
    "# <span style=\"color:navy\">Part 0: Before you Begin</span>\n",
    "-----\n",
    "### 0.1. Frequency Response of Speaker-Mic Board System\n",
    "Before we begin the lab, please copy over `freq_Vpp` into the code block below. This was the dictionary of values for the speaker-microphone frequency response that you recorded in Lab 4. We will use this to analyze the frequency response of our joint speaker-microphone and filter system."
   ]
  },
  {
   "cell_type": "code",
   "execution_count": null,
   "metadata": {},
   "outputs": [],
   "source": [
    "import numpy as np\n",
    "import matplotlib.pyplot as plt\n",
    "import scipy.signal as sp\n",
    "from pylab import * \n",
    "%matplotlib inline"
   ]
  },
  {
   "cell_type": "code",
   "execution_count": null,
   "metadata": {},
   "outputs": [],
   "source": [
    "# TODO: Copy your values into freq_Vpp from lab 4\n",
    "freq_Vpp = {\n",
    "    20: None,\n",
    "    50: None,\n",
    "    200: None, \n",
    "    300: None, \n",
    "    500: None, \n",
    "    800: None, \n",
    "    1000: None, \n",
    "    1250: None, \n",
    "    1750: None, \n",
    "    2000: None, \n",
    "    2500: None, \n",
    "    3000: None, \n",
    "    4000: None, \n",
    "    5000: None, \n",
    "    6000: None, \n",
    "    7000: None, \n",
    "    8000: None\n",
    "}\n",
    "freq = sorted(list(freq_Vpp.keys()))\n",
    "assert len(freq) == 17, \"Ensure that you didn't remove any of the frequences :pandacop:\"\n",
    "\n",
    "Vpp = [freq_Vpp[f] for f in freq] \n",
    "print(\"Vpp = \", Vpp)\n",
    "\n",
    "# We do not have a measurable input signal Vin, so we normalize the maximum of the frequency response to 1.\n",
    "gain = np.array(Vpp)/max(Vpp)\n",
    "\n",
    "plt.loglog(freq, gain)\n",
    "plt.title('log-Gain vs. log-Frequency')\n",
    "plt.xlabel('Frequency (Hz)')\n",
    "plt.ylabel('Gain (Volts/Volts)')\n",
    "plt.show()"
   ]
  },
  {
   "cell_type": "markdown",
   "metadata": {},
   "source": [
    "### 0.2. Tune Your Mic Board\n",
    "#### Materials:\n",
    "- Speaker (phone, laptop, etc.)\n",
    "\n",
    "Before every lab that uses the mic board, you will need to retune the mic board in case the potentiometer was bumped or otherwise rotated from its \"tuned\" position. An abridged version of the micboard tuning steps from Lab 4 is shown below."
   ]
  },
  {
   "cell_type": "markdown",
   "metadata": {},
   "source": [
    "\n",
    "#### Tasks:\n",
    "1. Power both of your regulators with 9V using the +25V channel on your DC power supply. Make sure to set the current limit to 0.1A! **DO NOT plug in your batteries**\n",
    "\n",
    "2. Connect your oscilloscope probe to $V_{out}$ on your mic board. Add a **peak-to-peak** and **frequency** measurement to the oscilloscope.\n",
    "\n",
    "3.  **Play a pure tone using a [tone generator](https://www.szynalski.com/tone-generator/) in the range (1500 - 2000 Hz)** on your phone at a reasonable volume (leaning towards the soft side). Do NOT use a Youtube video!\n",
    "\n",
    "4. Turn the potentiometer on the mic board **(CW: decrease amplitude | CCW: increase amplitude)** using a screwdriver (or your student ID card) until you see a sine wave with a **peak-to-peak of around 1.5V to 2V** on the oscilloscope.\n",
    "    - If you tuned your micboard previously, you shouldn't need to turn the potentiometer a significant amount.\n",
    "\n",
    "5. **Verify that the frequency of the measured sine wave matches the tone from your phone, and that the sine wave is centered at around 1.65V.**"
   ]
  },
  {
   "cell_type": "markdown",
   "metadata": {},
   "source": [
    "## Project Breadboard Layout\n",
    "In the first part of this lab, you will be building a low-pass filter and a non-inverting amplifier on your breadboard. The low-pass filter corresponds to the dark green region on the recommended project breadboard layout below, with the non-inverting amplifier using the same op-amp chip as the mic board biasing circuit (since there are 2 op-amps per op-amp chip). In the second part of this lab, you will be building a high-pass filter but removing it after checkoff, so **make sure you have enough unallocated space available for this lab**.\n",
    "\n",
    "<img width=\"700px\" src=\"images/suggested_layout.jpg\">"
   ]
  },
  {
   "cell_type": "markdown",
   "metadata": {},
   "source": [
    "<a id='part1'></a>\n",
    "# <span style=\"color:navy\">Part 1: *Bass*ic Filter</span>\n",
    "\n",
    "-----\n",
    "In this part, you will build a low-pass filter to isolate the frequencies below the provided cutoff frequency. In addition to serving as part of the band-pass filter in this lab, this filter will eventually be used to better sample voice commands in later phases of the project."
   ]
  },
  {
   "cell_type": "markdown",
   "metadata": {},
   "source": [
    "### Materials\n",
    "- Capacitors\n",
    "- Resistors\n",
    "- Function generator\n",
    "- Oscilloscope"
   ]
  },
  {
   "cell_type": "markdown",
   "metadata": {},
   "source": [
    "## Tasks\n",
    "\n",
    "### 1.1. Design and Build the Low-Pass Filter\n",
    "\n",
    "1. Recall the circuit diagram and cutoff frequency equation $f_c$ for a first-order low pass RC filter. Feel free to refer to lecture notes or draw it out if it helps.\n",
    "\n",
    "2. Choose values for $R$ and $C$ such that your cutoff frequency $f_c$ is roughly 2500 Hz. Don't worry about getting the exact cutoff frequency: being within a few hundred Hz is fine.\n",
    "    - We chose 2500 Hz because most of the human vocal range falls below 2500 Hz.\n",
    "    \n",
    "3. Record your values for $R$ and $C$ in the code below. Write code to calculate $f_c$ given your values for $R$ and $C$.\n",
    "\n",
    "4. Build the low-pass filter on your breadboard. Don't connect the micboard output to your low pass filter yet!\n",
    "    - Look in the lab note for the resistor color code chart and capacitor code chart.\n",
    "    - Remember, you can combine resistors in series/parallel with each other!\n",
    "\n",
    "#### Notes/Tips:\n",
    "- Since we have far more resistor values than we have capacitor values, start by choosing an easy capacitor value, like $1\\mu F$, $0.1\\mu F$, etc. Pick one that lets you choose resistors of at least 1 $k\\Omega$ (otherwise, the current draw would make the readings unstable)."
   ]
  },
  {
   "cell_type": "code",
   "execution_count": null,
   "metadata": {},
   "outputs": [],
   "source": [
    "### YOUR CODE HERE\n",
    "R = ...\n",
    "C = ...\n",
    "f_c = ...\n",
    "\n",
    "print(\"Low pass filter\")\n",
    "print(\"===============\")\n",
    "print(\"Resistor: {} ohms\".format(R))\n",
    "print(\"Capacitor: {} farads\".format(C))\n",
    "print(\"Cutoff frequency: {} Hz\".format(f_c))"
   ]
  },
  {
   "cell_type": "markdown",
   "metadata": {},
   "source": [
    "### 1.2. Test the Low-Pass Filter\n",
    "\n",
    "With the low pass filter built, we'll check that the cutoff frequency is as expected. To test it in isolation from other components, we'll use the function generator to generate a reliable input. \n",
    "\n",
    "1. Set your function generator to output a sinusoid with a 1.65V offset, 1V peak-to-peak voltage, and the frequency as the cutoff frequency of your low pass filter. Remember to set the output load to High-Z.\n",
    "2. Connect the function generator to the input of your low pass filter. **Make sure your mic board output is not connected to your filter**. \n",
    "3. Probe the output of your low pass with your oscilloscope. Ensure the gain/attentuation at the cutoff frequency is what you expect by comparing the peak-to-peak values of your input and output sinusoids. \n",
    "    - At the filter's cutoff frequency, the output $V_{pp}$ should be $\\frac{1}{\\sqrt 2} \\cdot V_{pp}$. \n",
    "4. Additionally try outputting a very low frequency and very high frequency, and see if the output changes as expected."
   ]
  },
  {
   "cell_type": "markdown",
   "metadata": {},
   "source": [
    "### 1.3. Plot the Frequency Response of the Low-Pass-Filtered Mic Board\n",
    "\n",
    "Now that we've verified the low-pass filter's functionality, it's time to connect it to our mic board. \n",
    "1. Disconnect your function generator from your circuit. Connect the **output of the mic board** to the input of your filter.\n",
    "2. Probe the output of your filter with your oscilloscope.\n",
    "\n",
    "Once you have done that, fill in the cutoff frequency of your low pass filter in the cell below and run it to plot the ideal frequency response of an RC low pass filter. "
   ]
  },
  {
   "cell_type": "code",
   "execution_count": null,
   "metadata": {},
   "outputs": [],
   "source": [
    "### TODO: Enter your low cutoff frequency below inside the float() call. \n",
    "low_cutoff = float() #TODO\n",
    "\n",
    "lp_p2p_expected = 1/(np.sqrt(1+((np.array(freq)/(low_cutoff))**2)))\n",
    "\n",
    "\n",
    "plt.plot(freq, lp_p2p_expected)\n",
    "plt.xlabel(\"Frequency (Hz)\")\n",
    "plt.ylabel(\"Output Voltage/Input Voltage\")\n",
    "plt.title(\"Frequency vs Gain (Low Pass)\")\n",
    "plt.show()\n",
    "\n",
    "plt.loglog(freq, lp_p2p_expected)\n",
    "plt.xlabel(\"Frequency (Hz)\")\n",
    "plt.ylabel(\"Output Voltage/Input Voltage\")\n",
    "plt.title(\"log-Frequency vs log-Gain (Low Pass)\")\n",
    "plt.show()"
   ]
  },
  {
   "cell_type": "markdown",
   "metadata": {},
   "source": [
    "Next, we will measure the frequency response of the low-pass-filtered mic board. For the given frequencies below in `lp_freq_Vpp`,  measure and record the output peak-to-peak voltage values."
   ]
  },
  {
   "cell_type": "code",
   "execution_count": null,
   "metadata": {},
   "outputs": [],
   "source": [
    "# Record the amplitude of the output sinusoid at each given frequency. \n",
    "# Fill in your values here and replace the \"None\"s with your measured voltage values\n",
    "lp_freq_Vpp = {\n",
    "    100: None,\n",
    "    200: None,\n",
    "    400: None, \n",
    "    600: None, \n",
    "    1000: None, \n",
    "    2000: None,\n",
    "    5000: None\n",
    "}\n",
    "lp_freqs = sorted(list(lp_freq_Vpp.keys()))\n",
    "lp_p2p_observed = [lp_freq_Vpp[f] for f in lp_freqs]\n",
    "\n",
    "lp_gain_observed = np.array(lp_p2p_observed)/np.max(lp_p2p_observed)\n",
    "\n",
    "plt.xlabel(\"Frequency (Hz)\")\n",
    "plt.ylabel(\"Output Voltage/Input Voltage\")\n",
    "plt.title(\"Frequency vs Gain (Low Pass)\")\n",
    "plt.plot(freq, lp_p2p_expected)\n",
    "plt.scatter(lp_freqs, lp_gain_observed)\n",
    "plt.show()\n",
    "\n",
    "plt.xlabel(\"Frequency (Hz)\")\n",
    "plt.ylabel(\"Output Voltage/Input Voltage\")\n",
    "plt.title(\"log-Frequency vs log-Gain (Low Pass)\")\n",
    "plt.loglog(freq, lp_p2p_expected)\n",
    "plt.scatter(lp_freqs, lp_gain_observed)\n",
    "plt.show()"
   ]
  },
  {
   "cell_type": "markdown",
   "metadata": {},
   "source": [
    "<!-- <span style=\"color:#075a04\"> **Sanity check: Does the frequency response of your low-pass filtered mic board match the frequency response of an ideal low-pass RC filter? Why or why not?** </span> -->\n",
    "\n",
    "<span style=\"color:#075a04\">  **Note: The frequency response of your low-pass filtered mic board won't match the frequency response of the ideal low-pass RC filter. Think about why this might be the case.** </span>\n",
    "\n",
    "\n",
    "Now, we will multiply the ideal low-pass filter frequency response (lp_p2p_expected) with our observed speaker-mic board frequency response (the variable called gain). Run the script below to plot the resulting frequency response."
   ]
  },
  {
   "cell_type": "code",
   "execution_count": null,
   "metadata": {},
   "outputs": [],
   "source": [
    "response_lp_micboard = np.multiply(lp_p2p_expected, gain)\n",
    "\n",
    "plt.xlabel(\"Frequency (Hz)\")\n",
    "plt.ylabel(\"Output Voltage/Input Voltage\")\n",
    "plt.title(\"Frequency vs Gain (Low pass filtered Micboard)\")\n",
    "plt.plot(freq, response_lp_micboard)\n",
    "plt.scatter(lp_freqs,lp_gain_observed)\n",
    "plt.show()\n",
    "\n",
    "plt.xlabel(\"Frequency (Hz)\")\n",
    "plt.ylabel(\"Output Voltage/Input Voltage\")\n",
    "plt.title(\"log-Frequency vs log-Gain (Low pass filtered Micboard)\")\n",
    "plt.loglog(freq, response_lp_micboard)\n",
    "plt.scatter(lp_freqs,lp_gain_observed)\n",
    "plt.show()\n"
   ]
  },
  {
   "cell_type": "markdown",
   "metadata": {},
   "source": [
    "<span style=\"color:#075a04\"> **Sanity check: Does the frequency response of your low-pass filtered mic board match the frequency response of the low-pass filter multiplied with our speaker-mic board frequency response? Why or why not?** </span>"
   ]
  },
  {
   "cell_type": "markdown",
   "metadata": {},
   "source": [
    "### 1.4. Amplify the Low-Pass Signal\n",
    "After filtering, the signal may not be strong enough to be measured by the Arduino. Therefore, we may need to amplify the signal.\n",
    "\n",
    "1. Build a non-inverting amplifier as shown in the diagram below on your breadboard using resistor values of $\\geq$1k$\\Omega$. Choose a gain such that the largest peak-to-peak voltage in `lp_freq_Vpp` is amplified to around 2-2.5V.\n",
    "    - **Hint:** The equation for the gain of a non-inverting amplifier is $1 + \\frac{R_f}{R_1}$ according to the circuit diagram below.\n",
    "    - If your $V_{pp}$ is already high enough, you can simply build a buffer.\n",
    "    - Note that $R_1$ is connected to 1.65V rather than GND to preserve our 1.65V offset.\n",
    "2. Connect the output of your filter to the input of your amplifier.\n",
    "3. Probe the output of your amplifier to ensure your signal responds to noise and is not railing.\n",
    "\n",
    "|Non-inverting Amplifier:|Op-Amp Pinout:|\n",
    "|:-----:|:---------------:|\n",
    "|<img style=\"width:500px\" src=\"images/sp22_low_pass.png\">|<img style=\"width:500px\" src=\"images/op_amp_pinout.png\">| "
   ]
  },
  {
   "cell_type": "markdown",
   "metadata": {},
   "source": [
    "<a id='part2'></a>\n",
    "# <span style=\"color:navy\">Part 2: Caught in the Midrange</span>\n",
    "\n",
    "-----\n",
    "Often times, we're interested in a more narrow frequency range (i.e. 1kHz to 3kHz) than the range of 0 to our low-pass cutoff frequency. In order to accomplish this, we will build what's known as a band-pass filter, which utilizes both a high-pass and low-pass filter to select a range of frequencies to pass. We'll build the high-pass filter in the unallocated space on the breadboard, **because we'll only be keeping the low-pass filter for future project labs.**"
   ]
  },
  {
   "cell_type": "markdown",
   "metadata": {},
   "source": [
    "\n",
    "\n",
    "#### Materials\n",
    "- Capacitors\n",
    "- Resistors\n",
    "- Speaker\n",
    "- Oscilloscope probes\n",
    "\n",
    "## Tasks\n",
    "\n",
    "### 2.1. Design and Build the High-Pass Filter Circuit\n",
    "\n",
    "1. Recall the circuit diagram and cutoff frequency equation $f_c$ for a first-order high pass RC filter.\n",
    "\n",
    "2. Choose values for $R$ and $C$ such that your cutoff frequency $f_c$ is roughly 800 Hz. (Like the Low Pass filter, being within a few hundred Hz is fine.)\n",
    "    \n",
    "3. Record your values for $R$ and $C$ in the code below. Write code to calculate $f_c$ given your values for $R$ and $C$.\n",
    "\n",
    "4. Build the high-pass filter in an empty spot on your breadboard (you will be removing it after checkoff, so feel free to build it in any open spot).\n",
    "    - <span style=\"color:red\"> **NOTE: Instead of connecting the end of the resistor to ground, connect it to the `Half Rail`, as shown below.**</span>\n",
    "    \n",
    "<img style=\"width:250px\" src=\"images/high_pass_alone.png\">\n",
    "    \n",
    "- <span style=\"color:#075a04\"> **Sanity check: Why do we do this?** </span>\n",
    "\n",
    "#### Notes/Tips:\n",
    " \n",
    "- Since we have far more resistor values than we have capacitor values, start by choosing an easy capacitor value. Pick one that that lets you choose resistors of at least $1k\\Omega$."
   ]
  },
  {
   "cell_type": "code",
   "execution_count": null,
   "metadata": {},
   "outputs": [],
   "source": [
    "### YOUR CODE HERE\n",
    "R = ...\n",
    "C = ...\n",
    "f_c = ...\n",
    "\n",
    "print(\"High pass filter\")\n",
    "print(\"================\")\n",
    "print(\"Resistor: {} ohms\".format(R))\n",
    "print(\"Capacitor: {} farads\".format(C))\n",
    "print(\"Cutoff frequency: {} Hz\".format(f_c))"
   ]
  },
  {
   "cell_type": "markdown",
   "metadata": {},
   "source": [
    "### 2.2. Test the High-Pass Filter\n",
    "\n",
    "Similar to the low-pass filter, we'll test the high-pass filter with the function generator.\n",
    "\n",
    "1. Set your function generator to output a sinusoid with a 1.65V offset, 1V peak-to-peak voltage, and the frequency as the cutoff frequency of your high pass filter. \n",
    "2. Connect the function generator to the input of your high pass filter.\n",
    "3. Probe the output of your high pass with your oscilloscope. Ensure the gain/attentuation at the cutoff frequency is what you expect.\n",
    "4. Additionally try outputting a very low frequency and very high frequency, and see if the output changes as expected."
   ]
  },
  {
   "cell_type": "markdown",
   "metadata": {},
   "source": [
    "### 2.3 Build the Band-Pass Filter\n",
    "1. Connect the **output of the amplifier** you built for the low-pass filter in Part 1.4 to the input of the high pass filter you built in Part 2.1.\n",
    "    - This amplifier additionally serves the purpose of isolating the low-pass filter from the high-pass filter, removing the need for another buffer between the amplifier's output and the high pass input.\n",
    "2. At this point, your circuits should be chained as follows:\n",
    "<img style=\"width:750px\" src=\"images/band-flow.png\">"
   ]
  },
  {
   "cell_type": "markdown",
   "metadata": {},
   "source": [
    "### 2.4. Plot the Frequency Response of the Micboard Band-Pass System\n",
    "\n",
    "Fill in your cutoff frequency for your high pass filter in the cell below and run it to plot the frequency response of an ideal band-pass filter. "
   ]
  },
  {
   "cell_type": "code",
   "execution_count": null,
   "metadata": {},
   "outputs": [],
   "source": [
    "### TODO: Enter your high cutoff frequency below inside the float() call. \n",
    "high_cutoff = float() #TODO\n",
    "\n",
    "hp_p2p_expected =  (np.array(freq)/high_cutoff)/(np.sqrt(1 + (np.array(freq)/high_cutoff)**2))\n",
    "bp_p2p_expected = np.multiply(hp_p2p_expected, lp_p2p_expected)\n",
    "\n",
    "plt.xlabel(\"Frequency (Hz)\")\n",
    "plt.ylabel(\"Output Voltage/Input Voltage\")\n",
    "plt.title(\"Frequency vs Gain (Band-Pass)\")\n",
    "plt.plot(freq, bp_p2p_expected)\n",
    "plt.show()\n",
    "\n",
    "plt.xlabel(\"Frequency (Hz)\")\n",
    "plt.ylabel(\"Output Voltage/Input Voltage\")\n",
    "plt.title(\"log-Frequency vs log-Gain (Band-Pass)\")\n",
    "plt.loglog(freq, bp_p2p_expected)\n",
    "plt.show()"
   ]
  },
  {
   "cell_type": "markdown",
   "metadata": {},
   "source": [
    "Next, probe the output of your band-pass filter. For the given frequencies in `bp_freq_Vpp`, Measure and record the peak-to-peak voltage values. This is the frequency response of your band-pass filtered mic board."
   ]
  },
  {
   "cell_type": "code",
   "execution_count": null,
   "metadata": {},
   "outputs": [],
   "source": [
    "# Record the amplitude of the output sinusoid at each given frequency. \n",
    "# Fill in your values here and replace the \"None\"s with your measured voltage values\n",
    "bp_freq_Vpp = {\n",
    "    200: None,\n",
    "    500: None, \n",
    "    1000: None, \n",
    "    2000: None,\n",
    "    5000: None,\n",
    "    10000: None\n",
    "}\n",
    "bp_freqs = sorted(list(bp_freq_Vpp.keys()))\n",
    "bp_p2p_observed = [bp_freq_Vpp[f] for f in bp_freqs]\n",
    "\n",
    "bp_gain_observed = np.array(bp_p2p_observed)/np.max(bp_p2p_observed)\n",
    "\n",
    "plt.xlabel(\"Frequency (Hz)\")\n",
    "plt.ylabel(\"Output Voltage/Input Voltage\")\n",
    "plt.title(\"Frequency vs Gain (Band Pass)\")\n",
    "plt.plot(freq, bp_p2p_expected)\n",
    "plt.scatter(bp_freqs, bp_gain_observed)\n",
    "plt.show()\n",
    "\n",
    "plt.xlabel(\"Frequency (Hz)\")\n",
    "plt.ylabel(\"Output Voltage/Input Voltage\")\n",
    "plt.title(\"log-Frequency vs log-Gain (Band Pass)\")\n",
    "plt.loglog(freq, bp_p2p_expected)\n",
    "plt.scatter(bp_freqs, bp_gain_observed)\n",
    "plt.show()"
   ]
  },
  {
   "cell_type": "markdown",
   "metadata": {},
   "source": [
    "Now, we will multiply the band-pass filter frequency response (bp_p2p_expected) with our speaker-mic board frequency response (the variable called gain). Run the script below to plot the resulting frequency response."
   ]
  },
  {
   "cell_type": "code",
   "execution_count": null,
   "metadata": {
    "scrolled": false
   },
   "outputs": [],
   "source": [
    "response_bp_micboard = np.multiply(bp_p2p_expected, gain)\n",
    "\n",
    "plt.xlabel(\"Frequency (Hz)\")\n",
    "plt.ylabel(\"Output Voltage/Input Voltage\")\n",
    "plt.title(\"Frequency vs Gain (Band pass filtered Micboard)\")\n",
    "plt.plot(freq, Vpp, label=\"Micboard\")\n",
    "plt.plot(freq, response_bp_micboard, label=\"BP Expected\")\n",
    "plt.scatter(bp_freqs, bp_p2p_observed, label=\"BP observed\")\n",
    "plt.legend()\n",
    "plt.show()\n",
    "\n",
    "plt.xlabel(\"Frequency (Hz)\")\n",
    "plt.ylabel(\"Output Voltage/Input Voltage\")\n",
    "plt.title(\"log-Frequency vs log-Gain (Band pass filtered Micboard)\")\n",
    "plt.loglog(freq, Vpp, label=\"Micboard\")\n",
    "plt.loglog(freq, response_bp_micboard)\n",
    "plt.scatter(bp_freqs, bp_p2p_observed)\n",
    "plt.legend()\n",
    "plt.show()"
   ]
  },
  {
   "cell_type": "markdown",
   "metadata": {},
   "source": [
    "<span style=\"color:#075a04\"> **Sanity check: Does the frequency response of your band-pass filtered mic board match the frequency response of the band-pass filter multiplied with our speaker-mic board frequency response? Why or why not?** </span>"
   ]
  },
  {
   "cell_type": "markdown",
   "metadata": {},
   "source": [
    "<a id='checkoff'> </a>\n",
    "\n",
    "# <span style=\"color:#ba190f\">CHECKOFF</span>\n"
   ]
  },
  {
   "cell_type": "markdown",
   "metadata": {},
   "source": [
    "- **Have all questions and plots completed in this notebook.**\n",
    "\n",
    "- **Show your TA your working circuits:**\n",
    "    - Demonstrate working low-pass filter. \n",
    "    - Show your frequency response plots of the low-pass filter. \n",
    "    - Demonstrate working band-pass filter. \n",
    "    - Show your frequency response plots of the band-pass filter.\n",
    "\n",
    "- **Be prepared to answer conceptual questions about the lab.**\n",
    "\n",
    "\n",
    "**After checkoff, please:**\n",
    "\n",
    "- Disassemble the high-pass filter.<span style=\"color:#ff0000\"> **DO NOT DISMANTLE ANY OTHER CIRCUITS FROM YOUR BREADBOARD! You will need them for the rest of the project!**</span> \n",
    "\n",
    "- Store all your electrical components in a neat and organized manner.\n",
    "- Make sure that all components that you received in your lab kit are stored safely for use in future labs.\n",
    "\n",
    "- Remember what each part of your circuit is for (Record this in a Google doc or somewhere else safe). You will need to write summaries for both the midterm and final lab reports!\n"
   ]
  },
  {
   "cell_type": "code",
   "execution_count": null,
   "metadata": {},
   "outputs": [],
   "source": []
  }
 ],
 "metadata": {
  "anaconda-cloud": {},
  "kernelspec": {
   "display_name": "Python 3",
   "language": "python",
   "name": "python3"
  },
  "language_info": {
   "codemirror_mode": {
    "name": "ipython",
    "version": 3
   },
   "file_extension": ".py",
   "mimetype": "text/x-python",
   "name": "python",
   "nbconvert_exporter": "python",
   "pygments_lexer": "ipython3",
   "version": "3.8.5"
  },
  "vscode": {
   "interpreter": {
    "hash": "aee8b7b246df8f9039afb4144a1f6fd8d2ca17a180786b69acc140d282b71a49"
   }
  }
 },
 "nbformat": 4,
 "nbformat_minor": 1
}
