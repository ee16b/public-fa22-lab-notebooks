{
 "cells": [
  {
   "cell_type": "markdown",
   "metadata": {},
   "source": [
    "# Hands-on Lab 3: Motion\n",
    "\n",
    "### EECS 16B: Designing Information Devices and Systems II, Fall 2022\n",
    "\n",
    "Written by Nathaniel Mailoa and Emily Naviasky (2016)\n",
    "\n",
    "Updated by Peter Schafhalter and Zain Zaidi (2019)\n",
    "\n",
    "Updated by Mia Mirkovic (2020)\n",
    "\n",
    "Updated by Rafael Calleja (2020)\n",
    "\n",
    "Updated by Steven Lu and Kaitlyn Chan (2021)\n",
    "\n",
    "Updated by Steven Lu and Megan Zeng (2022)\n",
    "\n",
    "Updated by Mingyang Wang, Shrey Aeron, and Megan Zeng (2022)\n",
    "\n",
    "----"
   ]
  },
  {
   "cell_type": "markdown",
   "metadata": {},
   "source": [
    "\n",
    "# Table of Contents\n",
    "\n",
    "* [Part 0: Introduction](#part0)\n",
    "* [Part 1: Motor Controller Circuits](#part1)\n",
    "* [Part 2: Encoder Circuits](#part2)\n"
   ]
  },
  {
   "cell_type": "markdown",
   "metadata": {},
   "source": [
    "<a id='part0'></a>\n",
    "# <span style=\"color:navy\">Part 0: Introduction</span>\n",
    "-----\n",
    "\n",
    "In the previous lab, you learned how microcontrollers like Arduinos interact with the world via DACs and ADCs. With that knowledge, we can now begin working on our project, which will use the Arduino as its \"brain\" or core. For the rest of this semester you will be designing S1XT33N, a mischievous little robot who might just do what you want - if you design it correctly. Our end goal is to have S1XT33N listen to your voice commands and execute the corresponding drive command. In this lab, you will build S1XT33N’s legs: you will build the motor control circuits that enable S1XT33N to move around and the encoder circuits that enable your Arduino to detect how far and fast S1XT33N has moved.\n",
    "\n",
    "## Please read the [lab note](https://eecs16b.org/lab/notes/lab_note3.pdf). \n",
    "\n",
    "Optional: Here is some [extra lab note reading](https://eecs16b.org/lab/notes/lab_note3_extra.pdf) for after you've completed the lab if you are interested in learning more about BJTs and diodes.\n",
    "\n",
    "Review the lab note. The lab note provides a technical review of the concepts covered in lab as well as theoretical connections. **You should read the lab notes before your lab section.** They serve as a review and will be helpful as a reference during section.\n"
   ]
  },
  {
   "cell_type": "markdown",
   "metadata": {},
   "source": [
    "## Pre-Lab\n",
    "\n",
    "Complete the pre-lab assignment before doing the lab. Submit your answers to the Gradescope assignment \"[\\[Lab\\] Pre-Lab 3: Motion](https://www.gradescope.com/courses/414337/assignments/2248304)\". Please make sure that you submit to the correct assignment. Pre-Lab 3 is due on Monday, September 19 at 11:59pm. No late submissions will be accepted.\n"
   ]
  },
  {
   "cell_type": "markdown",
   "metadata": {},
   "source": [
    "## Project Breadboard Layout\n",
    "This lab's motor controller and encoder circuits correspond to the purple sections on the project breadboard layout below. **We strongly recommend that you follow this layout as you build the different circuits for S1XT33N.** In later labs, you will need room for the project circuits currently grayed out. The motor/encoder circuits also require the 3.3V rail, which provides 3.3V to many of the front-end circuits for this car, and the `Motor 9V Rail`, which provides 9V to the motors. In this lab, both rails will be powered by the power supply. In future labs, the 3.3V rail will be powered by the 3.3V voltage regulator while the `Motor 9V Rail` will be powered by the 9V battery. **For all parts of the project, make sure to connect the two negative rails for GND and the two positive rails for the 3.3V rail** so that both sides of the breadboard can easily access the same ground and 3.3V.\n",
    "<img width=\"700px\" src=\"images/suggested_layout.jpg\">"
   ]
  },
  {
   "cell_type": "markdown",
   "metadata": {},
   "source": [
    "<a id='part1'></a>\n",
    "# <span style=\"color:navy\">Part 1: Motor Controller Circuits</span>\n",
    "\n",
    "-----"
   ]
  },
  {
   "cell_type": "markdown",
   "metadata": {},
   "source": [
    "In this part, we will build the motor controller circuits to give the Arduino control of the motors while the motors are powered by 9V.\n",
    "#### Materials\n",
    "- Breadboard\n",
    "- Power Supply\n",
    "- 2 C2690A NPN BJTs (Bipolar Junction Transistor)\n",
    "- 2 IN4001 Diodes\n",
    "- 2 Motors\n",
    "- 2 1.5 $k\\Omega$ resistors (Brown, Green, Red, Gold)\n",
    "- 1 3-terminal switch\n",
    "- Arduino"
   ]
  },
  {
   "cell_type": "markdown",
   "metadata": {},
   "source": [
    "### 1.1 Set up the rails.\n",
    "\n",
    "#### Tasks:\n",
    "- Connect the negative rails on the breadboard to use as ground. Connect the positive rails on the breadboard to use as the 3.3V rail. If the power rails are split (the colored lines along the positive and negative rails are not continuous), you will need to connect the top and bottom halves of each rail, as discussed in lab 1.\n",
    "\n",
    "- Set the 6V channel on the power supply to **3.3V** and a **0.1A** current limit, then connect the output to one of the positive rails.\n",
    "\n",
    "- Set the 25V channel on the power supply to **9V** and a **0.4A** current limit, then connect the output to the row labelled **`Motor 9V Rail`** in the project breadboard layout above. You will use the `Motor 9V Rail` to power the motors. Since the motors can each draw 100-200mA of current, we need to increase the limit from our usual 0.1A.\n",
    "\n",
    "At this point, the ground leads of both channels should be connected to one of the negative rails. **When you are not running the circuits, leave the power supply output off** to reduce the risk of damaging your components."
   ]
  },
  {
   "cell_type": "markdown",
   "metadata": {},
   "source": [
    "### 1.2 Build the motor controller circuits.\n",
    "\n",
    "#### Tasks:\n",
    "1.  **Construct the circuit below for each wheel using the <a href=\"https://www.mouser.com/datasheet/2/308/1/KSC2690A_D-2314385.pdf\">C2690A</a> NPN BJT on the breadboard**. You will be building this circuit twice, once for the left motor, and once for the right motor. **We strongly recommend you build these circuits in the purple sections on the project breadboard layout above.** See below for the pinouts and diagrams of the different components. <img width=\"250px\" src=\"images/motor-drive-with-switch.jpg\">\n",
    "    - The pin diagram of the BJT is reproduced below. <span style=\"color:#ba190f\">**Make sure to match the Base, Emitter, and Collector properly to the schematic. Note the diagram shows 3 circles facing up.**</span>\n",
    "    <img width=\"250px\" src=\"images/proj-bjt.png\">\n",
    "    - A <a href=\"https://www.allaboutcircuits.com/textbook/semiconductors/chpt-3/introduction-to-diodes-and-rectifiers/\">diode</a> is a component that only conducts current one way. This diode is needed because of the inductive characteristics of the motor. If the motor is on and we turn it off, the inductive behavior of the motor generates a back emf that maintains the current and we need a way to dissipate it when the switch is off. The diode provides the pathway to do so. The diagram for the diode is shown below. **Note that the diode has a direction** - be careful which terminal is attached to the 9V power supply. \n",
    "<img width=\"300px\" src=\"images/proj-diode.png\">\n",
    "\n",
    "2. Connect both your motors to the `Motor 9V Rail` through a switch. You only need **ONE** switch!\n",
    "    - We are using this switch as a way to control whether your motors are powered or not.\n",
    "    - At any given time, two of the three pins (1 and 2 or 2 and 3) below are connected depending on which side the switch is flipped to.\n",
    "    - The orientation of the switch does not matter.\n",
    "    <img width=\"300px\" src=\"images/switch.png\">\n",
    "    1. Place the switch somewhere fairly central (with respect to the long side) on your project breadboard.\n",
    "    2. Connect the `Motor 9V Rail` to `pin 1`.\n",
    "    3. Connect the other motor wire (the one not connected to the collector pin of the BJT) of **BOTH** motors to `pin 2`. \n",
    "    4. Connect `pin 3` to ground."
   ]
  },
  {
   "cell_type": "markdown",
   "metadata": {},
   "source": [
    "### 1.3 Test the motor controller circuits.\n",
    "\n",
    "#### Uploading Arduino code review:\n",
    "1. Download **`motor_test.ino`** and open it up in the Arduino IDE. Connect your Arduino to the computer tower using the micro-USB cable.\n",
    "2. Under _Tools -> Board_, make sure the selected board is \"Arduino Leonardo\". Under _Tools -> Port_, make sure the selected port is the port that ends in \"(Arduino Leonardo)\". If this port does not work for uploading, try other available ports.\n",
    "5. Press the upload button (the right pointing arrow, **not** the checkmark) and make sure the terminal says \"success\".\n",
    "6. Press the RST button on the Arduino whenever you want to rerun the program. Sometimes, this button doesn't work, so unpower your circuit by turning off the power supplies and then unplugging the Arduino, in that order. Then, do these steps in reverse to restart the circuit.\n",
    "7. If you open up the serial monitor (Tools -> Serial Monitor), make sure to set the specified baud rate in the code. You'll see the baud rate under something like ```Serial.begin(38400)```, where 38400 is the baud rate if it is not defined at the top of the file.\n",
    "\n",
    "#### Tasks:\n",
    "Here, we will be testing each motor circuit **one at a time**.\n",
    "1. Connect the node labeled **<span style=\"color:#ba190f\">Arduino Pin 6</span>** in one of the motor controller circuits to **<span style=\"color:#ba190f\">pin 6</span>** on your Arduino. **Make sure to ground your Arduino** (connect any Arduino GND pin to the negative rail of breadboard)! There should be **no** other connections between your project breadboard and the Arduino aside from pin `6` and GND. Turn on the power supply output.\n",
    "      - If pin `6` is no longer functional, any free pins of `5`, `10`, `11`, or `13` will also work. If you're using one of these other pins, you'll have to update the pin definition at the top of the `motor_test.ino` code to reflect that.\n",
    "2. Upload `motor_test.ino` to your Arduino and hit `RST`.\n",
    "3. Open the Serial Monitor (`CTRL-SHIFT-L` / `CMD-SHIFT-L`). Set the baud rate to **38400**.\n",
    "    As the program runs, you should see the \"Duty Cycle\" reading change in the Serial Monitor. Your motor should speed up as the duty cycle increases, and slow down as it decreases. \n",
    "\n",
    "<span style=\"color:#ba190f\">**4. Repeat for the *other motor circuit*. Make sure that both motors drive as expected. They might not go at the same speed - our control scheme will fix that later in the project.**</span>\n",
    "\n",
    "#### Debugging Tips:\n",
    "- The motor is reversible so connect it in any direction for now. If it turns out to go backwards later, just exchange the two wires of the motor.\n",
    "- If one motor is working but the other isn’t, try plugging the nonfunctional one into the functional motor’s motor circuit to isolate if the issue is the motor circuit or the motor. \n",
    "- If you think the motor is the issue, you can try putting 9V across the motor seperate from the motor circuit to see if it moves.\n",
    "- If your motor is not moving, we want to isolate the problem. You can try the following steps. \n",
    "    1. Make sure the switch is on and that the power supply is on. Probe the cathode terminal of the diode— if the switch is on, this should always be at 9V.\n",
    "    2. Ensure the diode and BJT are plugged in facing the right direction.\n",
    "    3. Probing where pin `6` is plugged in with the oscilloscope will allow you to check whether there is a PWM signal varying between 0V and 5V reaching the breadboard. The signal should vary based on the duty cycle printed on the Serial Monitor. If there is no PWM signal, your jumper cable or Arduino pin might be at fault. If you encounter multiple faulty jumper cables, call your TA over.\n",
    "    4. Probe the anode terminal of the diode. When the motors are not moving, this should be at 9V (providing 0V across the motor). As the duty cycle changes, you should see this voltage change, causing the motors to move. If this is not the case, your BJT circuit or diode may be broken."
   ]
  },
  {
   "cell_type": "markdown",
   "metadata": {},
   "source": [
    "# <span style=\"color:red\">**IMPORTANT: The car's orientation**\n",
    "You should have the car assembled. The castor wheel (small white wheel) is the back of the car. **When the car is moving, the castor wheel should always be at the back of the car.**"
   ]
  },
  {
   "cell_type": "markdown",
   "metadata": {},
   "source": [
    "<a id='part2'></a>\n",
    "# <span style=\"color:navy\">Part 2: Encoder Circuits</span>\n",
    "\n",
    "-----"
   ]
  },
  {
   "cell_type": "markdown",
   "metadata": {},
   "source": [
    "In later labs, we will have S1XT33N drive along different predefined paths using control. This requires being able to measure the distance travelled by each wheel within a specified timeframe so that the Arduino can adjust for differences between the wheels, which is what the encoders and their associated circuits are used for.\n",
    "\n",
    "### 2.1: Installing the Encoders\n",
    "\n",
    "#### Materials: \n",
    "- 2 encoders (aka photointerrupter modules, shown below)\n",
    "- 8 jumper wires\n",
    "- 2 1k$\\Omega$ resistors (Brown, Black, Red, Gold)\n",
    "- 2 2k$\\Omega$ resistors (Red, Black, Red, Gold)\n",
    "- 2 10nF capacitors\n",
    "- Arduino + USB cable\n",
    "\n",
    "#### Tasks: \n",
    "\n",
    "**1. Put the encoders in their slots as shown below.**\n",
    "<br/><br/>\n",
    "<center>\n",
    "<img width=\"400px\" src=\"images/proj-car-encoder1.jpg\">\n",
    "</center>\n",
    "\n",
    "**2. Connect the encoders to the project breadboard and Arduino as follows:**\n",
    "* Use 4 jumper wires per encoder. 3 will connect from the encoder to your project breadboard, 1 will connect from your breadboard to your Arduino. You should **twist or braid all three wires from the encoder to the breadboard together** - this will help shield the signal wire from external noise sources.\n",
    "* Connect the 'G' (ground) pins to ground on your breadboard.\n",
    "* Connect the 'V' (voltage) pins to the 3.3V rail of your breadboard.\n",
    "* For each of your 'S' (signal) pins: \n",
    "    - Build a modified voltage divider including a capacitor, as shown in the circuit below. The purpose of this circuit is to reduce the effect of high frequency noise when counting the ticks without compromising the sharp transitions between LOW and HIGH in the encoder output signal (you will learn more about such \"filters\" in a few lectures). **This circuit should also be built in the corresponding purple motor/encoder circuit section of the project breadboard layout.**\n",
    "    <img width=\"300px\" src=\"images/res_divider.png\">\n",
    "    - Connect the encoder signal pin to the node labelled **<span style=\"color:#ba190f\">To 'S' pin</span>**.  \n",
    "* Connect the output (between the two resistors) of the left voltage divider to the Arduino pin `3` and the output (between the two resistors) of the right voltage divider to pin `2`.\n",
    "    - If these pins are no longer functional, pin `7` will also work. If you're using another pin, you'll have to update the pin definition at the top of the `encoder_test_0_ticks.ino` code to reflect that."
   ]
  },
  {
   "cell_type": "markdown",
   "metadata": {},
   "source": [
    "### 2.2: Encoder Verification\n",
    "\n",
    "In general, there are two major types of error in sensing the car's trajectory. The first is noise in the sensor signals. The second is from mechanical differences between the two sides of the car.\n",
    "\n",
    "In this section we will test for and fix the first type of noise. The mechanical type primarily affects performance over long distances, so we can compensate for it after implementing closed-loop control.\n",
    "\n",
    "\n",
    "#### Materials:\n",
    "- Arduino + USB cable\n",
    "- Car with encoders and motors installed\n",
    "- 2 plastic encoder wheels (black plastic wheel with lots of rectangular holes)\n",
    "\n",
    "#### Tasks: \n",
    "1. Connect the Arduino's USB.\n",
    "2. Make sure one of the ground pins on the Arduino is connected to the ground rail of your project breadboard.\n",
    "3. **Connect the input resistor of the left motor's driver circuit to pin `6` and the input resistor of the right motor's driver circuit to pin `5`.** The input resistor is the 1.5k$\\Omega$ resistor in each motor controller circuit. The Arduino pin connects to the end not connected to the base pin of the BJT.\n",
    "4. Turn on the power supply output. **If your encoders are powered properly, the LEDs on each one should blink when you pass something through the encoders or turn the wheels.**\n",
    "5. If you haven't already, attach the encoder wheels as shown below.\n",
    "    - If it is on, make sure to remove the paper sticker from your car frame if there is one (yes, it does come off) before you attach the encoders.\n",
    "    - If some of the holes on the encoder wheel were not fully cut out, use a screwdriver to push the material out.\n",
    "<img width=\"400px\" src=\"images/proj-car-encoder2.jpg\">\n",
    "6. Pick up your car, then upload **`encoder_test_0_ticks.ino`** to the Arduino.\n",
    "7. Open the serial monitor.\n",
    "8. **Set the baud rate to `38400`**.\n",
    "9. Follow the instructions on the serial monitor.\n",
    "    - **Your car wheels are going to move. Make sure that you are still holding the car above the table/ground. Don't let your car jump off the table.**\n",
    "    - The test will conduct 4 phases: both wheels at rest, only left wheel driving, only right wheel driving, and both wheels driving.\n",
    "    - If your encoders are functioning properly, the serial monitor should print \"Failure if encoder wheels are off. Success if encoder wheels are on.\" after each phase.\n",
    "    - This diagnostics message will be followed up by a long and repeating string of the actual values measured during the duration of the program. If you want to look at just the encoder diagnostics, make sure to untick `Autoscroll` in the bottom left of the Serial Monitor window.\n",
    "\n",
    "#### Debugging Tips:\n",
    "- If your `encoder_test_0_ticks.ino` test is not passing, there could be several issues:\n",
    "    1. Ensure that your encoders are turned on by turning the wheels by hand **slowly** with the encoder wheels on. The red encoder lights should flash. Additionally, the signal from the encoder `S` pin should alternate between 0V when the light is on and 3.3V when the light is off. If the light stays off or there is no output from the `S` pin, ensure that the encoder pin `V` is receiving 3.3V and `G` is plugged into GND by probing your rails. Ensure your encoder wheels are on. If this doesn't work or the lights only stay on, it could be that your encoder is broken or your jumper wires are faulty.\n",
    "    3. If the above is not working, it is likely your jumper wire or Arduino pin is the issue. If you encounter multiple faulty jumper cables, call your TA over."
   ]
  },
  {
   "cell_type": "markdown",
   "metadata": {},
   "source": [
    "# <span style=\"color:#ba190f\">CHECKOFF</span>\n",
    "-----\n",
    "\n",
    "- **Show your TA your working circuits:**\n",
    "    - Demonstrate that both of your motors work properly.\n",
    "    - Demonstrate your car passing the encoder tests.\n",
    "- **Be prepared to answer conceptual questions about the lab.**\n",
    "    \n",
    "- ### <span style=\"color:red\">DO NOT DISMANTLE ANY CIRCUITS FROM YOUR BREADBOARD! You will need them for the rest of the project!</span>\n",
    "\n",
    "- ### **Remember what each part of your circuit is for (Record this in a Google doc or somewhere else safe). You will need to write summaries for both the midterm and final lab reports!**\n",
    "\n",
    "- #### **Back up this document (e.g. to Google Drive or Github). The computers are reset frequently and at random and losing data is painful**\n",
    "- If you're interested in learning more about the components we used in this lab, read the [extra reading lab note](https://eecs16b.org/lab/notes/lab_note3_extra.pdf)."
   ]
  },
  {
   "cell_type": "code",
   "execution_count": null,
   "metadata": {},
   "outputs": [],
   "source": []
  }
 ],
 "metadata": {
  "anaconda-cloud": {},
  "kernelspec": {
   "display_name": "Python 3",
   "language": "python",
   "name": "python3"
  },
  "language_info": {
   "codemirror_mode": {
    "name": "ipython",
    "version": 3
   },
   "file_extension": ".py",
   "mimetype": "text/x-python",
   "name": "python",
   "nbconvert_exporter": "python",
   "pygments_lexer": "ipython3",
   "version": "3.8.5"
  }
 },
 "nbformat": 4,
 "nbformat_minor": 4
}
