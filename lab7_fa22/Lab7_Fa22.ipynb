{
 "cells": [
  {
   "cell_type": "markdown",
   "metadata": {},
   "source": [
    "# Hands-on Lab 7: Controls Part 1\n",
    "## EECS 16B: Designing Information Devices and Systems II, Fall 2022\n",
    "\n",
    "Updated by Steven Lu, Kaitlyn Chan (2021)\n",
    "\n",
    "Updated by Steven Lu (2022)\n",
    "\n",
    "Updated by Mingyang Wang, Shrey Aeron, and Megan Zeng (2022)"
   ]
  },
  {
   "cell_type": "markdown",
   "metadata": {},
   "source": [
    "## <span style=\"color:navy\">Table Of Contents</span>\n",
    "-----\n",
    "* [Introduction](#intro)\n",
    "* [Part 1: Open-Loop Control](#part1)\n",
    "* [Part 2: Closed-Loop Control](#part2)\n"
   ]
  },
  {
   "cell_type": "markdown",
   "metadata": {},
   "source": [
    "<a id='intro'></a>\n",
    "## <span style=\"color:navy\">Introduction</span>\n",
    "\n",
    "In the previous lab, we developed a linear model for our system to better understand how our motor inputs get \"translated\" into wheel velocity. In this lab, we will use this model to drive S1XT33N in a straight line. We will do so in 2 different ways: open-loop control and closed-loop control. In the next lab, we will extend the controller to enable controlled turning. "
   ]
  },
  {
   "cell_type": "markdown",
   "metadata": {},
   "source": [
    "## Lab Note\n",
    "* [Lab Note](https://eecs16b.org/lab/notes/lab_note7.pdf)\n",
    "\n",
    "Review the lab note. The lab note provides a technical review of the concepts covered in lab as well as theoretical connections.\n"
   ]
  },
  {
   "cell_type": "markdown",
   "metadata": {},
   "source": [
    "## Pre-Lab\n",
    "\n",
    "Complete the pre-lab assignment before doing the lab. Submit your answers to the Gradescope assignment \"[[Lab] Pre-Lab 7: Controls Part 1](https://www.gradescope.com/courses/414337/assignments/2375507)\". Pre-Lab 7 is due on **Monday, October 31 at 11:59pm**. No late submissions will be accepted.\n"
   ]
  },
  {
   "cell_type": "markdown",
   "metadata": {},
   "source": [
    "<a id='part1'></a>\n",
    "# <span style=\"color:navy\">Part 1: Open-Loop Control</span>"
   ]
  },
  {
   "cell_type": "markdown",
   "metadata": {},
   "source": [
    "## 1.0 Introduction to Open-Loop Control\n",
    "\n",
    "We will begin by exploring how to control our car using **open-loop control**. Open-loop control refers to a controller that does not take in feedback from the target system; it blindly sets the inputs to what it calculates based on the model.\n",
    "\n",
    " For S1XT33N, open loop control will attempt to calculate the inputs $u_L$ and $u_R$ to make both wheels run at the same velocity v* (the operating velocity we calculated in the previous lab). \n",
    "\n",
    "**First, fill in your model parameters and target velocity from Lab 6: System ID below.**"
   ]
  },
  {
   "cell_type": "code",
   "execution_count": null,
   "metadata": {},
   "outputs": [],
   "source": [
    "import numpy as np\n",
    "import matplotlib.pyplot as plt\n",
    "import utils\n",
    "%matplotlib inline"
   ]
  },
  {
   "cell_type": "code",
   "execution_count": null,
   "metadata": {},
   "outputs": [],
   "source": [
    "# YOUR PARAMETERS HERE\n",
    "theta_left =\n",
    "theta_right =\n",
    "beta_left =\n",
    "beta_right =\n",
    "v_star =\n",
    "\n",
    "simulator = utils.Simulator(theta_left, theta_right, beta_left, beta_right)"
   ]
  },
  {
   "cell_type": "code",
   "execution_count": null,
   "metadata": {},
   "outputs": [],
   "source": [
    "params = np.array([(theta_left, theta_right),\n",
    "                   (beta_left, beta_right)])\n",
    "d0 = (0,  0)\n",
    "sim_length = 10 # sim length\n",
    "mismatch_error = 0.1 # 10% model mismatch"
   ]
  },
  {
   "cell_type": "markdown",
   "metadata": {},
   "source": [
    "<a id='part1.1'></a>\n",
    "## 1.1 Open-Loop Controller Design\n",
    "\n",
    "Use the linear model parameters you calculated in the previous lab to design your open-loop controller. Your controller takes in the desired wheel velocity, $v_{star}$, and returns the motor inputs, $u_L$ and $u_R$, to set the model wheel velocities to $v_{star}$.\n",
    "\n",
    "Tip: Since we defined your parameters $\\theta_L$, $\\theta_R$, etc in a code block above, you can use those same variables within your open-loop functions."
   ]
  },
  {
   "cell_type": "code",
   "execution_count": null,
   "metadata": {},
   "outputs": [],
   "source": [
    "# DESIGN YOUR OPEN-LOOP CONTROL HERE\n",
    "def drive_straight_left_ol(v_star):\n",
    "    \"\"\"Returns the open loop input 'u' for the left wheel\"\"\"\n",
    "    # YOUR CODE HERE\n",
    "    raise NotImplementedError() # REMOVE THIS LINE\n",
    "    return ...\n",
    "\n",
    "def drive_straight_right_ol(v_star):\n",
    "    \"\"\"Returns the open loop input 'u' for the right wheel\"\"\"\n",
    "    # YOUR CODE HERE\n",
    "    raise NotImplementedError() # REMOVE THIS LINE\n",
    "    return ..."
   ]
  },
  {
   "cell_type": "markdown",
   "metadata": {},
   "source": [
    "<a id='part1.2'></a>\n",
    "## 1.2 Open-Loop Simulation\n",
    "\n",
    "\n",
    "Now, let's do a quick simulation to check the behavior of the car based on our functions above.\n",
    "\n",
    "### Mismatch\n",
    " There could be a mismatch between the estimated model parameters $\\beta_{L,R}, \\theta_{L,R}$ and real model parameters $\\beta^*_{L,R}, \\theta^*_{L,R}.$ In this simulation, we assumed that the mismatch error is the same for both $\\beta_{L,R}$ and $\\theta_{L,R}$\n",
    "\n",
    "\n",
    "$$\\theta^*_{L,R}=\\theta_{L,R} \\times (1+\\text{mismatch\\_error})$$\n",
    "$$\\beta^*_{L,R}=\\beta_{L,R} \\times (1+\\text{mismatch\\_error})$$\n",
    "\n",
    "\n",
    "In the left two plots, we assume the physical system perfectly matches our model. On the right, we assume the physical system is 10% different from our model, meaning the model parameters of the wheels have a 10% mismatch. Don't worry too much about the $\\delta$ (delta) plot for now; we will come back to what this is later on in the lab.\n",
    "\n",
    "The 5th plot titled \"Trajectory of the car\" shows how the car would travel depending on which model is used. In the perfect model, the car is driving straight. In the case with model mismatch, the car continues to spin right.\n"
   ]
  },
  {
   "cell_type": "code",
   "execution_count": null,
   "metadata": {},
   "outputs": [],
   "source": [
    "titles = [\"Open-loop control with perfect model\",\n",
    "          \"Open-loop control with model mismatch\"]\n",
    "_ = utils.two_sims(titles, simulator, v_star, drive_straight_left_ol, drive_straight_right_ol)\n",
    "utils.plot_car_traj(titles[1], simulator, v_star, drive_straight_left_ol, drive_straight_right_ol,mismatch_error=0.1,sim_length=sim_length)"
   ]
  },
  {
   "cell_type": "markdown",
   "metadata": {},
   "source": [
    "<a id='part1.3'></a>\n",
    "## 1.3 Jolt Calculation\n",
    "\n",
    "When starting our motors from rest, we need to apply a large initial PWM to overcome static friction and \"jolt\" the motors into motion. However, as each side responds differently to the input; doing so could cause the car to immediately turn at the start and veer off course. \n",
    "\n",
    "Thus, we need to calculate jolt values that result in the two wheels attaining the same velocity, which we will choose to be the maximum velocity attainable by both wheels. This is equivalent to min(max(v_left), max(v_right)).\n",
    "\n",
    "- **Copy your `data_coarse.txt` file from Lab 6 into the same directory as this notebook.**\n",
    "- Run the code below to find and print your initial jolt values.\n",
    "- These jolt values should be the input values that correspond to the points where the blue and yellow lines intersect the green line respectively."
   ]
  },
  {
   "cell_type": "code",
   "execution_count": null,
   "metadata": {},
   "outputs": [],
   "source": [
    "left_jolt, right_jolt = utils.find_jolt()\n",
    "print('int left_jolt = {};\\nint right_jolt = {};'.format(left_jolt, right_jolt))"
   ]
  },
  {
   "cell_type": "markdown",
   "metadata": {},
   "source": [
    "<a id='part1.4'></a>\n",
    "## 1.4 Open-Loop Implementation\n",
    "\n",
    "Now we will implement the controller on the Arduino. The sketch **`open_loop.ino`** contains some code that implements open-loop control.\n",
    "\n",
    "- **If you've changed any of the pins from their default values in System ID, make sure those changes are reflected in the pin definitions.**"
   ]
  },
  {
   "cell_type": "markdown",
   "metadata": {},
   "source": [
    "- Fill in these values in `CODE BLOCK CON1`:\n",
    "    - estimated parameters: `theta_left`, `theta_right`, `beta_left`, `beta_right`\n",
    "    - desired velocity: `v_star` \n",
    "    - initial jolt values: `left_jolt`, `right_jolt`\n",
    "- Additionally, we need to compute the PWM input to the motors in `CODE BLOCK CON2`:\n",
    "    - Complete `driveStraight_left()` and `driveStraight_right()` to compute `left_cur_pwm` and `right_cur_pwm`\n",
    "    - This is similar to the `drive_straight_left_ol` and `drive_straight_right_ol` functions you wrote above, but now using C/C++ syntax instead of Python.\n",
    "    - Tip: Your $\\theta$ and $\\beta$ values are defined globally at the top of the .ino file, so you can reference them inside your function.\n",
    "- Fill out `CODE BLOCK CON3` to calculate the control inputs using the functions from `CODE BLOCK CON2`."
   ]
  },
  {
   "cell_type": "markdown",
   "metadata": {},
   "source": [
    "- Upload the sketch to your Arduino. Suspend your car over your desk and verify that your motors work as expected.\n",
    "\n",
    "Once you are satisfied that your open loop control is implemented, run your car on the ground. \n",
    "\n",
    "Most likely, S1XT33N will not drive in a straight line: you will see that it is still turning quite a bit. In the next section, we will use closed-loop control to use feedback to drive in a straight line.\n",
    "\n",
    "-----"
   ]
  },
  {
   "cell_type": "markdown",
   "metadata": {},
   "source": [
    "<a id='part2'></a>\n",
    "# <span style=\"color:navy\">Part 2: Closed-Loop Control</span>"
   ]
  },
  {
   "cell_type": "markdown",
   "metadata": {},
   "source": [
    "<a id='part20'></a>\n",
    "## 2.0 Introduction to Closed-Loop Control\n",
    "\n",
    "To correct for the limitations of open-loop control, we need a way to detect that the car is turning. Fortunately, we already have encoders that can measure the distance traveled by each wheel. We can take this information and \"feed it back\" to the Arduino as an input so that it can correct the trajectory. This is the basis for a closed-loop controller."
   ]
  },
  {
   "cell_type": "markdown",
   "metadata": {},
   "source": [
    "\n",
    "<a id='part21'></a>\n",
    "## 2.1 Closed-Loop Design\n",
    "\n",
    "We define $\\delta[i] = d_L[i] - d_R[i]$, the difference between the distances traveled by the left and right wheels.\n",
    "Our closed-loop controller takes the $\\delta$ value and adjusts the left and right inputs to correct for turns or disturbances. We define feedback factors $f_{left}$ and $f_{right}$ to control the amount of correction of each wheel. \n",
    "\n",
    "In Parts 2.1-2.4, the goal of our closed-loop controller is to converge S1XT33N's trajectory to a straight line in a reasonable amount of time. It is okay if the car starts off turning and then drives in a straight line; we will correct for this in Part 2.5."
   ]
  },
  {
   "cell_type": "markdown",
   "metadata": {},
   "source": [
    "Using the model derived in the lab note, we can begin implementing the closed-loop controller.\n",
    "\n",
    "Start by running the code below to set up the simulator and fill in `drive_straight_left_cl` and `drive_straight_right_cl`, which compute the wheel inputs using the desired velocity `v_star`, error term `delta`, and feedback factors `f_left` and `f_right` (which will be defined in the next section)."
   ]
  },
  {
   "cell_type": "code",
   "execution_count": null,
   "metadata": {},
   "outputs": [],
   "source": [
    "simulator = utils.Simulator(theta_left, theta_right, beta_left, beta_right)"
   ]
  },
  {
   "cell_type": "code",
   "execution_count": null,
   "metadata": {
    "scrolled": false
   },
   "outputs": [],
   "source": [
    "# DESIGN YOUR CLOSED-LOOP CONTROL HERE USING f_left AND f_right AS YOUR FEEDBACK TERMS\n",
    "def drive_straight_left_cl(v_star, delta):\n",
    "    \"\"\"Returns the closed loop input 'u' for the left wheel\"\"\"\n",
    "    # YOUR CODE HERE\n",
    "    raise NotImplementedError() # REMOVE THIS LINE\n",
    "    return ...\n",
    "\n",
    "def drive_straight_right_cl(v_star, delta):\n",
    "    \"\"\"Returns the closed loop input 'u' for the right wheel\"\"\"\n",
    "    # YOUR CODE HERE\n",
    "    raise NotImplementedError() # REMOVE THIS LINE\n",
    "    return ...\n"
   ]
  },
  {
   "cell_type": "markdown",
   "metadata": {},
   "source": [
    "<a id='part22'></a>\n",
    "## 2.2 Closed-Loop Simulation and f-Value Selection\n",
    "\n",
    "With the input-calculating functions implemented, we will choose feedback factor values to stabilize the $\\delta[i]$ update equation. There should be a range of parameter values which (theoretically) make it stable, so we will tune the gains to achieve the desired performance.\n",
    "\n",
    "Take a look at each pair of perfect/mismatched-model plots below for each f-value pair and relate how our choice in f-values affects the car's performance. For each pair of plots, ask yourself these questions:\n",
    "1. Does the car seem to drive straight in the perfectly matched model?\n",
    "2. Does the car seem to correct for any errors that arise from a mismatched model? Does it end up driving straight?\n",
    "3. How well does the car correct for errors?\n",
    "3. Why do the chosen f-values make our system exhibit such behaviors?\n",
    "\n",
    "Try the 5 different sets of gains below and see the effect of each."
   ]
  },
  {
   "cell_type": "code",
   "execution_count": null,
   "metadata": {
    "scrolled": false
   },
   "outputs": [],
   "source": [
    "# Maps description of f_values to (f_left, f_right)\n",
    "f_values = {\n",
    "    \"marginally stable\": (-0.3, 0.3),\n",
    "    \"stable, corrects error in one step\": (0.5, 0.5),\n",
    "    \"oscillatory, marginally stable\": (1, 1),\n",
    "    \"oscillatory, unstable\": (1.1, 1.1),\n",
    "    \"stable\": (0.2, 0.2),\n",
    "}\n",
    "\n",
    "for key in f_values:\n",
    "    f_left, f_right = f_values[key]\n",
    "\n",
    "    titles = [\"Closed-loop control with perfect model\",\n",
    "              \"Closed-loop control with model mismatch, fL={}, fR={}\".format(f_left, f_right)]\n",
    "    _, delta = utils.two_sims(titles, simulator, v_star, drive_straight_left_cl, drive_straight_right_cl)\n",
    "\n",
    "    print(\"fL={}, fR={}\".format(f_left, f_right))\n",
    "    print(\"Eigenvalue of system: 1-fL-fR={:.2g}; {}\".format(1-f_left-f_right, key))\n",
    "    plt.show()\n",
    "    steady_state_error = delta[-1]"
   ]
  },
  {
   "cell_type": "markdown",
   "metadata": {},
   "source": [
    "Now that you've taken a look at the behavior of various values for $f_{left}$ and $f_{right}$, choose your own for your car model! Fill in your chosen values in the code below to see how your model behaves. Does it do what you expected it to?"
   ]
  },
  {
   "cell_type": "code",
   "execution_count": null,
   "metadata": {},
   "outputs": [],
   "source": [
    "f_left, f_right = None, None # TODO: Fill in your chosen f values\n",
    "\n",
    "titles = [\"Closed-loop control with perfect model\",\n",
    "          \"Closed-loop control with model mismatch, fL={}, fR={}\".format(f_left, f_right)]\n",
    "_, delta = utils.two_sims(titles, simulator, v_star, drive_straight_left_cl, drive_straight_right_cl)\n",
    "\n",
    "print(\"fL={}, fR={}\".format(f_left, f_right))\n",
    "print(\"Eigenvalue of system: 1-fL-fR={:.2g}; {}\".format(1-f_left-f_right, key))\n",
    "plt.show()\n",
    "steady_state_error = delta[-1]"
   ]
  },
  {
   "cell_type": "markdown",
   "metadata": {
    "collapsed": true
   },
   "source": [
    "<a id='part23'></a>\n",
    "## 2.3 Closed-Loop Implementation\n",
    "\n",
    "Now implement the controller on the Arduino. The sketch **`closed_loop.ino`** contains some code that implements the closed loop control. \n",
    "\n",
    "- If you've changed any of the pins from their default values, make sure those changes are reflected in the pin definitions.\n",
    "- Fill out `CODE BLOCK CON1` with your control gains **`f_left`** and **`f_right`** as well as your $\\theta$, $\\beta$, and $v_{star}$ values from System ID.\n",
    "    - Finding the values that work best for your car is an iterative process, and you'll have to tune these values.\n",
    "- Fill out `CODE BLOCK CON2` with your closed-loop control scheme.\n",
    "- Fill out `CODE BLOCK CON4` in the body of the loop function to calculate the control inputs. Inspect this code to see how the control system is implemented. \n",
    "    - Ignore the term `delta_ss` for now. We will implement this in a bit.\n",
    "- Upload the sketch to your Arduino. Suspend your car over your desk and verify that your motors work as expected.\n",
    "    - A good sanity check is to manually hold one wheel in place; the controller should cause the other wheel to stop as well.\n",
    "\n",
    "Once you are satisfied that your closed loop control is implemented, run your car on the ground. \n",
    "\n",
    "-----"
   ]
  },
  {
   "cell_type": "markdown",
   "metadata": {},
   "source": [
    "<a id='part24'></a>\n",
    "## 2.4 f-Value Tuning\n",
    "\n",
    "How did the car behave? It probably didn't go perfectly straight with the first set of f-values that you picked. To find the optimal f values, we will analyze the behavior of our car. For our system, we want $\\delta[i]$ (the blue line) to converge to 0 in a reasonable amount of time.\n",
    "\n",
    "small f-values | large f-values\n",
    "- | - \n",
    "![alt](images/small_f.png) | ![alt](images/large_f.png)\n",
    " \n",
    "The above plots can be summarized as:\n",
    "- If $f_{left}$ and $f_{right}$ are too small, convergence takes a long time.\n",
    "- If $f_{left}$ and $f_{right}$ are too big, the system oscillates.\n",
    "We can use this information to select f-values for straight motion.\n",
    "\n",
    "With this in mind, try different f-values and run the car on the ground again, observing its trajectory. This is an iterative process and you will likely have to try several sets of f-values until you find one that works well for your particular car. "
   ]
  },
  {
   "cell_type": "markdown",
   "metadata": {},
   "source": [
    "<img width='30px' align='left' src=\"http://inst.eecs.berkeley.edu/~ee16b/sp16/lab_pics/check.png\">\n",
    "\n",
    "## <span style=\"color:green\">CHECKOFF</span>\n",
    "\n",
    "- **Have all questions, code, and plots completed in this notebook.**\n",
    "\n",
    "- <span style=\"color:green\"> **Demonstrate your car going straight.** Here is our definition of “straight” based on the floor tiling your car has to travel within at various locations inside and outside the Cory 125 lab: </span>\n",
    "   - Outside Cory 125 double doors: 3x11 on black tiles\n",
    "   - Side entrance hallway, from the pink to red lines: 2x7 tiles\n",
    "\n",
    "- **Be prepared to answer conceptual questions about the lab.**\n",
    "\n",
    "**After checkoff:**\n",
    "\n",
    "- <span style=\"color:#ff0000\"> **DO NOT DISMANTLE ANY CIRCUITS FROM YOUR PROJECT BREADBOARD! You will need them for the rest of the project!**</span>\n",
    "\n",
    "- Make sure that all electrical components that you received in your lab kit are stored neatly and safely for use in future labs.\n",
    "\n",
    "- **Remove your battery caps from your batteries to avoid accidental short circuits that might drain their voltage.**\n",
    "\n",
    "- **SAVE ALL YOUR DATA!!** Data stored on the lab computers often gets deleted automatically. Please store it on your personal flash drive or cloud storage like Google Drive, and not on the lab computers! If you used DataHub, it should save through your CalNet ID. **You will still need to back up your `.ino` files**\n",
    "\n",
    "- **Clean up your lab bench areas!** This includes turning off all lab equipment, putting all lab equipment probes back on the racks, returning all components you borrowed, putting the rest of the components back in your lab kits neatly, and throwing away any stripped wires.\n"
   ]
  }
 ],
 "metadata": {
  "anaconda-cloud": {},
  "kernelspec": {
   "display_name": "Python 3",
   "language": "python",
   "name": "python3"
  },
  "language_info": {
   "codemirror_mode": {
    "name": "ipython",
    "version": 3
   },
   "file_extension": ".py",
   "mimetype": "text/x-python",
   "name": "python",
   "nbconvert_exporter": "python",
   "pygments_lexer": "ipython3",
   "version": "3.8.5"
  },
  "vscode": {
   "interpreter": {
    "hash": "edc8d6812309921f3a63e4b9b2e40592608261e150ac2d04f697159e608ea21b"
   }
  }
 },
 "nbformat": 4,
 "nbformat_minor": 1
}
